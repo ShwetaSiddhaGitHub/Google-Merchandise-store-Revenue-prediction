{
 "cells": [
  {
   "cell_type": "code",
   "execution_count": 1,
   "metadata": {},
   "outputs": [],
   "source": [
    "import pandas as pd\n",
    "import numpy as np\n",
    "import seaborn as sns\n",
    "import seaborn as sns\n",
    "from sklearn.metrics import confusion_matrix\n",
    "from sklearn.metrics import accuracy_score\n",
    "from sklearn.metrics import classification_report\n",
    "from sklearn.model_selection import cross_val_score\n",
    "from sklearn.tree import DecisionTreeClassifier\n",
    "\n",
    "from datetime import datetime\n",
    "from matplotlib.pylab import rcParams\n",
    "import matplotlib.pyplot as plt\n",
    "import seaborn as sns"
   ]
  },
  {
   "cell_type": "code",
   "execution_count": 2,
   "metadata": {},
   "outputs": [
    {
     "data": {
      "text/plain": [
       "InvoiceNo      0\n",
       "InvoiceDate    0\n",
       "StockCode      0\n",
       "Quantity       0\n",
       "dtype: int64"
      ]
     },
     "execution_count": 2,
     "metadata": {},
     "output_type": "execute_result"
    }
   ],
   "source": [
    "retail =  pd.read_csv(\"Retail.csv\", delimiter= \",\")\n",
    "retail.isnull().sum()"
   ]
  },
  {
   "cell_type": "code",
   "execution_count": 3,
   "metadata": {},
   "outputs": [
    {
     "data": {
      "text/plain": [
       "181247"
      ]
     },
     "execution_count": 3,
     "metadata": {},
     "output_type": "execute_result"
    }
   ],
   "source": [
    "len(retail)"
   ]
  },
  {
   "cell_type": "code",
   "execution_count": 4,
   "metadata": {},
   "outputs": [
    {
     "data": {
      "text/plain": [
       "Product SKU    0\n",
       "StockCode      0\n",
       "dtype: int64"
      ]
     },
     "execution_count": 4,
     "metadata": {},
     "output_type": "execute_result"
    }
   ],
   "source": [
    "SKUcode =  pd.read_csv(\"KEY_SKU.csv\", delimiter= \",\")\n",
    "SKUcode.isnull().sum()"
   ]
  },
  {
   "cell_type": "code",
   "execution_count": 5,
   "metadata": {},
   "outputs": [],
   "source": [
    "retail_sku = pd.merge(retail,SKUcode,how='inner',on='StockCode')"
   ]
  },
  {
   "cell_type": "code",
   "execution_count": 6,
   "metadata": {},
   "outputs": [
    {
     "data": {
      "text/plain": [
       "181247"
      ]
     },
     "execution_count": 6,
     "metadata": {},
     "output_type": "execute_result"
    }
   ],
   "source": [
    "len(retail_sku)"
   ]
  },
  {
   "cell_type": "code",
   "execution_count": 7,
   "metadata": {},
   "outputs": [
    {
     "data": {
      "text/html": [
       "<div>\n",
       "<style scoped>\n",
       "    .dataframe tbody tr th:only-of-type {\n",
       "        vertical-align: middle;\n",
       "    }\n",
       "\n",
       "    .dataframe tbody tr th {\n",
       "        vertical-align: top;\n",
       "    }\n",
       "\n",
       "    .dataframe thead th {\n",
       "        text-align: right;\n",
       "    }\n",
       "</style>\n",
       "<table border=\"1\" class=\"dataframe\">\n",
       "  <thead>\n",
       "    <tr style=\"text-align: right;\">\n",
       "      <th></th>\n",
       "      <th>InvoiceNo</th>\n",
       "      <th>InvoiceDate</th>\n",
       "      <th>StockCode</th>\n",
       "      <th>Quantity</th>\n",
       "      <th>Product SKU</th>\n",
       "    </tr>\n",
       "  </thead>\n",
       "  <tbody>\n",
       "    <tr>\n",
       "      <th>0</th>\n",
       "      <td>536598</td>\n",
       "      <td>2017-01-01</td>\n",
       "      <td>21421</td>\n",
       "      <td>1</td>\n",
       "      <td>GGOENEBQ079099</td>\n",
       "    </tr>\n",
       "    <tr>\n",
       "      <th>1</th>\n",
       "      <td>536999</td>\n",
       "      <td>2017-01-02</td>\n",
       "      <td>21421</td>\n",
       "      <td>1</td>\n",
       "      <td>GGOENEBQ079099</td>\n",
       "    </tr>\n",
       "    <tr>\n",
       "      <th>2</th>\n",
       "      <td>537137</td>\n",
       "      <td>2017-01-04</td>\n",
       "      <td>21421</td>\n",
       "      <td>2</td>\n",
       "      <td>GGOENEBQ079099</td>\n",
       "    </tr>\n",
       "  </tbody>\n",
       "</table>\n",
       "</div>"
      ],
      "text/plain": [
       "   InvoiceNo InvoiceDate  StockCode  Quantity     Product SKU\n",
       "0     536598  2017-01-01      21421         1  GGOENEBQ079099\n",
       "1     536999  2017-01-02      21421         1  GGOENEBQ079099\n",
       "2     537137  2017-01-04      21421         2  GGOENEBQ079099"
      ]
     },
     "execution_count": 7,
     "metadata": {},
     "output_type": "execute_result"
    }
   ],
   "source": [
    "retail_sku.head(3)"
   ]
  },
  {
   "cell_type": "code",
   "execution_count": 8,
   "metadata": {},
   "outputs": [
    {
     "data": {
      "text/plain": [
       "Transaction ID                                0\n",
       "Date                                          0\n",
       "Product SKU                                   0\n",
       "Product                                       0\n",
       "Product Category (Enhanced E-commerce)        0\n",
       "Quantity                                      0\n",
       "Avg. Price                                    0\n",
       "Revenue                                       0\n",
       "Tax                                           0\n",
       "Delivery                                      0\n",
       "Unnamed: 10                               54138\n",
       "Unnamed: 11                               54138\n",
       "dtype: int64"
      ]
     },
     "execution_count": 8,
     "metadata": {},
     "output_type": "execute_result"
    }
   ],
   "source": [
    "online =  pd.read_csv(\"Online_retail.csv\", delimiter= \",\")\n",
    "online.isnull().sum()"
   ]
  },
  {
   "cell_type": "code",
   "execution_count": 9,
   "metadata": {},
   "outputs": [],
   "source": [
    "from datetime import datetime\n",
    "online[['NewDate']] = online[['Date']].applymap(str).applymap(lambda s: \"{}/{}/{}\".format(s[4:6],s[6:], s[0:4]))\n",
    "\n",
    "online['OrderDate'] = pd.to_datetime(online['NewDate'])\n",
    "\n",
    "Online_Merge = online[['OrderDate','Product SKU', 'Product','Product Category (Enhanced E-commerce)']]\n",
    "Online_Merge.to_csv(\"Online_Merge.csv\")"
   ]
  },
  {
   "cell_type": "code",
   "execution_count": 10,
   "metadata": {},
   "outputs": [],
   "source": [
    "online.to_csv(\"Online_Ana.csv\")"
   ]
  },
  {
   "cell_type": "code",
   "execution_count": 11,
   "metadata": {},
   "outputs": [],
   "source": [
    "online_merge =  pd.read_csv(\"Online_Merge.csv\", delimiter= \",\")\n",
    "retail_online = retail_sku\n",
    "retail_online['OrderDate'] = pd.to_datetime(retail_online['InvoiceDate'])\n",
    "#retail_online = pd.merge(retail,online_merge,how='left')"
   ]
  },
  {
   "cell_type": "code",
   "execution_count": 12,
   "metadata": {},
   "outputs": [
    {
     "name": "stdout",
     "output_type": "stream",
     "text": [
      "<class 'pandas.core.frame.DataFrame'>\n",
      "Int64Index: 181247 entries, 0 to 181246\n",
      "Data columns (total 6 columns):\n",
      "InvoiceNo      181247 non-null int64\n",
      "InvoiceDate    181247 non-null object\n",
      "StockCode      181247 non-null int64\n",
      "Quantity       181247 non-null int64\n",
      "Product SKU    181247 non-null object\n",
      "OrderDate      181247 non-null datetime64[ns]\n",
      "dtypes: datetime64[ns](1), int64(3), object(2)\n",
      "memory usage: 9.7+ MB\n"
     ]
    }
   ],
   "source": [
    "retail_sku.info()"
   ]
  },
  {
   "cell_type": "code",
   "execution_count": 13,
   "metadata": {},
   "outputs": [],
   "source": [
    "retail_sku['OrderDate'] = pd.to_datetime(retail_sku['InvoiceDate'])\n",
    "product = retail_sku.groupby('OrderDate')['Quantity'].sum().reset_index()"
   ]
  },
  {
   "cell_type": "code",
   "execution_count": 14,
   "metadata": {},
   "outputs": [
    {
     "data": {
      "text/plain": [
       "DatetimeIndex(['2017-01-01', '2017-01-02', '2017-01-04', '2017-01-05',\n",
       "               '2017-01-06', '2017-01-07', '2017-01-08', '2017-01-09',\n",
       "               '2017-01-11', '2017-01-12',\n",
       "               ...\n",
       "               '2017-12-20', '2017-12-21', '2017-12-22', '2017-12-23',\n",
       "               '2017-12-24', '2017-12-26', '2017-12-27', '2017-12-28',\n",
       "               '2017-12-29', '2017-12-31'],\n",
       "              dtype='datetime64[ns]', name='OrderDate', length=292, freq=None)"
      ]
     },
     "execution_count": 14,
     "metadata": {},
     "output_type": "execute_result"
    }
   ],
   "source": [
    "product = product.set_index('OrderDate')\n",
    "product.index"
   ]
  },
  {
   "cell_type": "code",
   "execution_count": 15,
   "metadata": {},
   "outputs": [
    {
     "data": {
      "image/png": "[encoded data removed]",
      "text/plain": [
       "<Figure size 1080x432 with 1 Axes>"
      ]
     },
     "metadata": {},
     "output_type": "display_data"
    }
   ],
   "source": [
    "y = product['Quantity'].resample('W').mean()\n",
    "y.plot(figsize=(15, 6))\n",
    "plt.show()"
   ]
  },
  {
   "cell_type": "code",
   "execution_count": 16,
   "metadata": {},
   "outputs": [],
   "source": [
    "import warnings\n",
    "import itertools\n",
    "import numpy as np\n",
    "import matplotlib.pyplot as plt\n",
    "warnings.filterwarnings(\"ignore\")\n",
    "plt.style.use('fivethirtyeight')\n",
    "import pandas as pd\n",
    "import statsmodels.api as sm\n",
    "import matplotlib"
   ]
  },
  {
   "cell_type": "code",
   "execution_count": 17,
   "metadata": {},
   "outputs": [
    {
     "name": "stdout",
     "output_type": "stream",
     "text": [
      "Examples of parameter combinations for Seasonal ARIMA...\n",
      "SARIMAX: (0, 0, 1) x (0, 0, 1, 12)\n",
      "SARIMAX: (0, 0, 1) x (0, 1, 0, 12)\n",
      "SARIMAX: (0, 1, 0) x (0, 1, 1, 12)\n",
      "SARIMAX: (0, 1, 0) x (1, 0, 0, 12)\n"
     ]
    }
   ],
   "source": [
    "p = d = q = range(0, 2)\n",
    "pdq = list(itertools.product(p, d, q))\n",
    "seasonal_pdq = [(x[0], x[1], x[2], 12) for x in list(itertools.product(p, d, q))]\n",
    "print('Examples of parameter combinations for Seasonal ARIMA...')\n",
    "print('SARIMAX: {} x {}'.format(pdq[1], seasonal_pdq[1]))\n",
    "print('SARIMAX: {} x {}'.format(pdq[1], seasonal_pdq[2]))\n",
    "print('SARIMAX: {} x {}'.format(pdq[2], seasonal_pdq[3]))\n",
    "print('SARIMAX: {} x {}'.format(pdq[2], seasonal_pdq[4]))"
   ]
  },
  {
   "cell_type": "code",
   "execution_count": 18,
   "metadata": {},
   "outputs": [
    {
     "name": "stdout",
     "output_type": "stream",
     "text": [
      "ARIMA(0, 0, 0)x(0, 0, 0, 12)12 - AIC:961.0949531093397\n",
      "ARIMA(0, 0, 0)x(0, 0, 1, 12)12 - AIC:724.0589980517395\n",
      "ARIMA(0, 0, 0)x(0, 1, 0, 12)12 - AIC:672.8249058951744\n"
     ]
    },
    {
     "name": "stderr",
     "output_type": "stream",
     "text": [
      "C:\\Users\\shwts\\AppData\\Local\\Continuum\\anaconda3\\lib\\site-packages\\statsmodels\\base\\model.py:508: ConvergenceWarning: Maximum Likelihood optimization failed to converge. Check mle_retvals\n",
      "  \"Check mle_retvals\", ConvergenceWarning)\n"
     ]
    },
    {
     "name": "stdout",
     "output_type": "stream",
     "text": [
      "ARIMA(0, 0, 0)x(0, 1, 1, 12)12 - AIC:1306.4861682233532\n",
      "ARIMA(0, 0, 0)x(1, 0, 0, 12)12 - AIC:690.7726035847495\n",
      "ARIMA(0, 0, 0)x(1, 0, 1, 12)12 - AIC:664.2687930814755\n",
      "ARIMA(0, 0, 0)x(1, 1, 0, 12)12 - AIC:483.0518654328289\n",
      "ARIMA(0, 0, 0)x(1, 1, 1, 12)12 - AIC:1327.299282933049\n",
      "ARIMA(0, 0, 1)x(0, 0, 0, 12)12 - AIC:891.068363168138\n",
      "ARIMA(0, 0, 1)x(0, 0, 1, 12)12 - AIC:673.1708395393622\n",
      "ARIMA(0, 0, 1)x(0, 1, 0, 12)12 - AIC:629.894750172057\n"
     ]
    },
    {
     "name": "stderr",
     "output_type": "stream",
     "text": [
      "C:\\Users\\shwts\\AppData\\Local\\Continuum\\anaconda3\\lib\\site-packages\\statsmodels\\base\\model.py:508: ConvergenceWarning: Maximum Likelihood optimization failed to converge. Check mle_retvals\n",
      "  \"Check mle_retvals\", ConvergenceWarning)\n"
     ]
    },
    {
     "name": "stdout",
     "output_type": "stream",
     "text": [
      "ARIMA(0, 0, 1)x(0, 1, 1, 12)12 - AIC:1202.1213720501737\n",
      "ARIMA(0, 0, 1)x(1, 0, 0, 12)12 - AIC:675.1301973639897\n",
      "ARIMA(0, 0, 1)x(1, 0, 1, 12)12 - AIC:629.0397533031392\n",
      "ARIMA(0, 0, 1)x(1, 1, 0, 12)12 - AIC:472.4224792734196\n"
     ]
    },
    {
     "name": "stderr",
     "output_type": "stream",
     "text": [
      "C:\\Users\\shwts\\AppData\\Local\\Continuum\\anaconda3\\lib\\site-packages\\statsmodels\\base\\model.py:508: ConvergenceWarning: Maximum Likelihood optimization failed to converge. Check mle_retvals\n",
      "  \"Check mle_retvals\", ConvergenceWarning)\n"
     ]
    },
    {
     "name": "stdout",
     "output_type": "stream",
     "text": [
      "ARIMA(0, 0, 1)x(1, 1, 1, 12)12 - AIC:1408.6990097749112\n",
      "ARIMA(0, 1, 0)x(0, 0, 0, 12)12 - AIC:788.0216631841528\n",
      "ARIMA(0, 1, 0)x(0, 0, 1, 12)12 - AIC:602.2270190419057\n",
      "ARIMA(0, 1, 0)x(0, 1, 0, 12)12 - AIC:625.3667411772831\n",
      "ARIMA(0, 1, 0)x(0, 1, 1, 12)12 - AIC:1114.09995857229\n",
      "ARIMA(0, 1, 0)x(1, 0, 0, 12)12 - AIC:616.3328293355164\n",
      "ARIMA(0, 1, 0)x(1, 0, 1, 12)12 - AIC:602.4756968961848\n",
      "ARIMA(0, 1, 0)x(1, 1, 0, 12)12 - AIC:442.6827829646985\n"
     ]
    },
    {
     "name": "stderr",
     "output_type": "stream",
     "text": [
      "C:\\Users\\shwts\\AppData\\Local\\Continuum\\anaconda3\\lib\\site-packages\\statsmodels\\base\\model.py:508: ConvergenceWarning: Maximum Likelihood optimization failed to converge. Check mle_retvals\n",
      "  \"Check mle_retvals\", ConvergenceWarning)\n"
     ]
    },
    {
     "name": "stdout",
     "output_type": "stream",
     "text": [
      "ARIMA(0, 1, 0)x(1, 1, 1, 12)12 - AIC:1063.268197738959\n",
      "ARIMA(0, 1, 1)x(0, 0, 0, 12)12 - AIC:758.7217281080706\n",
      "ARIMA(0, 1, 1)x(0, 0, 1, 12)12 - AIC:578.9643150692816\n",
      "ARIMA(0, 1, 1)x(0, 1, 0, 12)12 - AIC:599.1226626493158\n",
      "ARIMA(0, 1, 1)x(0, 1, 1, 12)12 - AIC:1061.8314175167527\n",
      "ARIMA(0, 1, 1)x(1, 0, 0, 12)12 - AIC:607.2128932571164\n",
      "ARIMA(0, 1, 1)x(1, 0, 1, 12)12 - AIC:580.3510812730125\n",
      "ARIMA(0, 1, 1)x(1, 1, 0, 12)12 - AIC:438.8891993218794\n",
      "ARIMA(0, 1, 1)x(1, 1, 1, 12)12 - AIC:1061.6732852805646\n",
      "ARIMA(1, 0, 0)x(0, 0, 0, 12)12 - AIC:818.3018212110085\n",
      "ARIMA(1, 0, 0)x(0, 0, 1, 12)12 - AIC:618.8524551454332\n",
      "ARIMA(1, 0, 0)x(0, 1, 0, 12)12 - AIC:648.8229881374539\n",
      "ARIMA(1, 0, 0)x(0, 1, 1, 12)12 - AIC:967.1902006751492\n",
      "ARIMA(1, 0, 0)x(1, 0, 0, 12)12 - AIC:618.3306740232813\n",
      "ARIMA(1, 0, 0)x(1, 0, 1, 12)12 - AIC:620.2316642232254\n",
      "ARIMA(1, 0, 0)x(1, 1, 0, 12)12 - AIC:442.9537747900018\n"
     ]
    },
    {
     "name": "stderr",
     "output_type": "stream",
     "text": [
      "C:\\Users\\shwts\\AppData\\Local\\Continuum\\anaconda3\\lib\\site-packages\\statsmodels\\base\\model.py:508: ConvergenceWarning: Maximum Likelihood optimization failed to converge. Check mle_retvals\n",
      "  \"Check mle_retvals\", ConvergenceWarning)\n"
     ]
    },
    {
     "name": "stdout",
     "output_type": "stream",
     "text": [
      "ARIMA(1, 0, 0)x(1, 1, 1, 12)12 - AIC:1322.091692704876\n",
      "ARIMA(1, 0, 1)x(0, 0, 0, 12)12 - AIC:783.1709135688756\n",
      "ARIMA(1, 0, 1)x(0, 0, 1, 12)12 - AIC:593.63921545199\n",
      "ARIMA(1, 0, 1)x(0, 1, 0, 12)12 - AIC:613.3407000658091\n"
     ]
    },
    {
     "name": "stderr",
     "output_type": "stream",
     "text": [
      "C:\\Users\\shwts\\AppData\\Local\\Continuum\\anaconda3\\lib\\site-packages\\statsmodels\\base\\model.py:508: ConvergenceWarning: Maximum Likelihood optimization failed to converge. Check mle_retvals\n",
      "  \"Check mle_retvals\", ConvergenceWarning)\n"
     ]
    },
    {
     "name": "stdout",
     "output_type": "stream",
     "text": [
      "ARIMA(1, 0, 1)x(0, 1, 1, 12)12 - AIC:1105.097793679302\n",
      "ARIMA(1, 0, 1)x(1, 0, 0, 12)12 - AIC:607.6250601896262\n",
      "ARIMA(1, 0, 1)x(1, 0, 1, 12)12 - AIC:594.5616599609547\n",
      "ARIMA(1, 0, 1)x(1, 1, 0, 12)12 - AIC:440.75931553982684\n"
     ]
    },
    {
     "name": "stderr",
     "output_type": "stream",
     "text": [
      "C:\\Users\\shwts\\AppData\\Local\\Continuum\\anaconda3\\lib\\site-packages\\statsmodels\\base\\model.py:508: ConvergenceWarning: Maximum Likelihood optimization failed to converge. Check mle_retvals\n",
      "  \"Check mle_retvals\", ConvergenceWarning)\n"
     ]
    },
    {
     "name": "stdout",
     "output_type": "stream",
     "text": [
      "ARIMA(1, 0, 1)x(1, 1, 1, 12)12 - AIC:1273.2334797225292\n",
      "ARIMA(1, 1, 0)x(0, 0, 0, 12)12 - AIC:780.443219223202\n",
      "ARIMA(1, 1, 0)x(0, 0, 1, 12)12 - AIC:593.929290060007\n",
      "ARIMA(1, 1, 0)x(0, 1, 0, 12)12 - AIC:620.0299158343944\n"
     ]
    },
    {
     "name": "stderr",
     "output_type": "stream",
     "text": [
      "C:\\Users\\shwts\\AppData\\Local\\Continuum\\anaconda3\\lib\\site-packages\\statsmodels\\base\\model.py:508: ConvergenceWarning: Maximum Likelihood optimization failed to converge. Check mle_retvals\n",
      "  \"Check mle_retvals\", ConvergenceWarning)\n"
     ]
    },
    {
     "name": "stdout",
     "output_type": "stream",
     "text": [
      "ARIMA(1, 1, 0)x(0, 1, 1, 12)12 - AIC:1038.971758383254\n",
      "ARIMA(1, 1, 0)x(1, 0, 0, 12)12 - AIC:592.6325179267931\n",
      "ARIMA(1, 1, 0)x(1, 0, 1, 12)12 - AIC:594.4552284512961\n",
      "ARIMA(1, 1, 0)x(1, 1, 0, 12)12 - AIC:425.1599936715726\n",
      "ARIMA(1, 1, 0)x(1, 1, 1, 12)12 - AIC:1013.061891094219\n",
      "ARIMA(1, 1, 1)x(0, 0, 0, 12)12 - AIC:760.7000032902334\n",
      "ARIMA(1, 1, 1)x(0, 0, 1, 12)12 - AIC:580.084966164147\n",
      "ARIMA(1, 1, 1)x(0, 1, 0, 12)12 - AIC:600.4414764271434\n"
     ]
    },
    {
     "name": "stderr",
     "output_type": "stream",
     "text": [
      "C:\\Users\\shwts\\AppData\\Local\\Continuum\\anaconda3\\lib\\site-packages\\statsmodels\\base\\model.py:508: ConvergenceWarning: Maximum Likelihood optimization failed to converge. Check mle_retvals\n",
      "  \"Check mle_retvals\", ConvergenceWarning)\n"
     ]
    },
    {
     "name": "stdout",
     "output_type": "stream",
     "text": [
      "ARIMA(1, 1, 1)x(0, 1, 1, 12)12 - AIC:1074.4052125577657\n",
      "ARIMA(1, 1, 1)x(1, 0, 0, 12)12 - AIC:593.2106103778458\n",
      "ARIMA(1, 1, 1)x(1, 0, 1, 12)12 - AIC:581.3059892896165\n",
      "ARIMA(1, 1, 1)x(1, 1, 0, 12)12 - AIC:425.6646813935964\n",
      "ARIMA(1, 1, 1)x(1, 1, 1, 12)12 - AIC:1058.560329022493\n"
     ]
    },
    {
     "name": "stderr",
     "output_type": "stream",
     "text": [
      "C:\\Users\\shwts\\AppData\\Local\\Continuum\\anaconda3\\lib\\site-packages\\statsmodels\\base\\model.py:508: ConvergenceWarning: Maximum Likelihood optimization failed to converge. Check mle_retvals\n",
      "  \"Check mle_retvals\", ConvergenceWarning)\n"
     ]
    }
   ],
   "source": [
    "for param in pdq:\n",
    "    for param_seasonal in seasonal_pdq:\n",
    "        try:\n",
    "            mod = sm.tsa.statespace.SARIMAX(y,\n",
    "                                            order=param,\n",
    "                                            seasonal_order=param_seasonal,\n",
    "                                            enforce_stationarity=False,\n",
    "                                            enforce_invertibility=False)\n",
    "\n",
    "            results = mod.fit()\n",
    "\n",
    "            print('ARIMA{}x{}12 - AIC:{}'.format(param, param_seasonal, results.aic))\n",
    "        except:\n",
    "            continue"
   ]
  },
  {
   "cell_type": "code",
   "execution_count": 19,
   "metadata": {},
   "outputs": [
    {
     "name": "stdout",
     "output_type": "stream",
     "text": [
      "==============================================================================\n",
      "                 coef    std err          z      P>|z|      [0.025      0.975]\n",
      "------------------------------------------------------------------------------\n",
      "ar.L1          1.0668      0.113      9.400      0.000       0.844       1.289\n",
      "ma.L1         -0.6073      0.256     -2.376      0.017      -1.108      -0.106\n",
      "ar.S.L12      -0.0079      0.190     -0.042      0.967      -0.379       0.364\n",
      "sigma2      3.303e+05   9.91e+04      3.335      0.001    1.36e+05    5.25e+05\n",
      "==============================================================================\n"
     ]
    }
   ],
   "source": [
    "mod = sm.tsa.statespace.SARIMAX(y,\n",
    "                                order=(1, 0, 1),\n",
    "                                seasonal_order=(1, 1, 0, 12),\n",
    "                                enforce_stationarity=False,\n",
    "                                enforce_invertibility=False)\n",
    "results = mod.fit()\n",
    "print(results.summary().tables[1])"
   ]
  },
  {
   "cell_type": "code",
   "execution_count": 20,
   "metadata": {},
   "outputs": [
    {
     "data": {
      "image/png": "[encoded data removed]",
      "text/plain": [
       "<Figure size 1008x504 with 1 Axes>"
      ]
     },
     "metadata": {},
     "output_type": "display_data"
    }
   ],
   "source": [
    "#Validating forecasts\n",
    "pred = results.get_prediction(start=pd.to_datetime('2017-01-01'), dynamic=False)\n",
    "pred_ci = pred.conf_int()\n",
    "ax = y['2017':].plot(label='observed')\n",
    "pred.predicted_mean.plot(ax=ax, label='One-step ahead Forecast', alpha=.7, figsize=(14, 7))\n",
    "ax.fill_between(pred_ci.index,\n",
    "                pred_ci.iloc[:, 0],\n",
    "                pred_ci.iloc[:, 1], color='k', alpha=.2)\n",
    "ax.set_xlabel('Date')\n",
    "ax.set_ylabel('Product Sales')\n",
    "plt.legend()\n",
    "plt.show()"
   ]
  },
  {
   "cell_type": "code",
   "execution_count": 21,
   "metadata": {},
   "outputs": [
    {
     "data": {
      "image/png": "[encoded data removed]",
      "text/plain": [
       "<Figure size 1008x504 with 1 Axes>"
      ]
     },
     "metadata": {},
     "output_type": "display_data"
    }
   ],
   "source": [
    "pred_uc = results.get_forecast(steps=12)\n",
    "pred_ci = pred_uc.conf_int()\n",
    "ax = y.plot(label='observed', figsize=(14, 7))\n",
    "pred_uc.predicted_mean.plot(ax=ax, label='Forecast')\n",
    "ax.fill_between(pred_ci.index,\n",
    "                pred_ci.iloc[:, 0],\n",
    "                pred_ci.iloc[:, 1], color='k', alpha=.25)\n",
    "ax.set_xlabel('Date')\n",
    "ax.set_ylabel('Product Sales')\n",
    "plt.legend()\n",
    "plt.show()"
   ]
  },
  {
   "cell_type": "code",
   "execution_count": 22,
   "metadata": {},
   "outputs": [
    {
     "name": "stdout",
     "output_type": "stream",
     "text": [
      "The Mean Squared Error of our forecasts is 1316567.84\n"
     ]
    }
   ],
   "source": [
    "y_forecasted = pred.predicted_mean\n",
    "y_truth = y['2017-01-01':]\n",
    "mse = ((y_forecasted - y_truth) ** 2).mean()\n",
    "print('The Mean Squared Error of our forecasts is {}'.format(round(mse, 2)))"
   ]
  },
  {
   "cell_type": "code",
   "execution_count": 23,
   "metadata": {},
   "outputs": [
    {
     "name": "stdout",
     "output_type": "stream",
     "text": [
      "The Root Mean Squared Error of our forecasts is 1147.42\n"
     ]
    }
   ],
   "source": [
    "print('The Root Mean Squared Error of our forecasts is {}'.format(round(np.sqrt(mse), 2)))"
   ]
  },
  {
   "cell_type": "code",
   "execution_count": 24,
   "metadata": {},
   "outputs": [
    {
     "name": "stdout",
     "output_type": "stream",
     "text": [
      "<class 'pandas.core.frame.DataFrame'>\n",
      "RangeIndex: 54139 entries, 0 to 54138\n",
      "Data columns (total 14 columns):\n",
      "Transaction ID                            54139 non-null int64\n",
      "Date                                      54139 non-null int64\n",
      "Product SKU                               54139 non-null object\n",
      "Product                                   54139 non-null object\n",
      "Product Category (Enhanced E-commerce)    54139 non-null object\n",
      "Quantity                                  54139 non-null int64\n",
      "Avg. Price                                54139 non-null float64\n",
      "Revenue                                   54139 non-null float64\n",
      "Tax                                       54139 non-null float64\n",
      "Delivery                                  54139 non-null float64\n",
      "Unnamed: 10                               1 non-null float64\n",
      "Unnamed: 11                               1 non-null float64\n",
      "NewDate                                   54139 non-null object\n",
      "OrderDate                                 54139 non-null datetime64[ns]\n",
      "dtypes: datetime64[ns](1), float64(6), int64(3), object(4)\n",
      "memory usage: 5.8+ MB\n"
     ]
    }
   ],
   "source": [
    "online.info()"
   ]
  },
  {
   "cell_type": "code",
   "execution_count": 25,
   "metadata": {},
   "outputs": [],
   "source": [
    "online_ml = online"
   ]
  },
  {
   "cell_type": "code",
   "execution_count": 26,
   "metadata": {},
   "outputs": [],
   "source": [
    "online_ml = online_ml.groupby(['OrderDate'],as_index=False).sum()"
   ]
  },
  {
   "cell_type": "code",
   "execution_count": 27,
   "metadata": {},
   "outputs": [
    {
     "name": "stdout",
     "output_type": "stream",
     "text": [
      "<class 'pandas.core.frame.DataFrame'>\n",
      "Int64Index: 365 entries, 0 to 364\n",
      "Data columns (total 10 columns):\n",
      "OrderDate         365 non-null datetime64[ns]\n",
      "Transaction ID    365 non-null int64\n",
      "Date              365 non-null int64\n",
      "Quantity          365 non-null int64\n",
      "Avg. Price        365 non-null float64\n",
      "Revenue           365 non-null float64\n",
      "Tax               365 non-null float64\n",
      "Delivery          365 non-null float64\n",
      "Unnamed: 10       365 non-null float64\n",
      "Unnamed: 11       365 non-null float64\n",
      "dtypes: datetime64[ns](1), float64(6), int64(3)\n",
      "memory usage: 31.4 KB\n"
     ]
    }
   ],
   "source": [
    "online_ml.info()"
   ]
  },
  {
   "cell_type": "code",
   "execution_count": 28,
   "metadata": {},
   "outputs": [],
   "source": [
    "online_ml.drop(['Transaction ID','Date','Avg. Price','Tax','Delivery','Unnamed: 10','Unnamed: 11'], axis = 1, inplace=True)"
   ]
  },
  {
   "cell_type": "code",
   "execution_count": 29,
   "metadata": {},
   "outputs": [
    {
     "name": "stdout",
     "output_type": "stream",
     "text": [
      "<class 'pandas.core.frame.DataFrame'>\n",
      "Int64Index: 365 entries, 0 to 364\n",
      "Data columns (total 3 columns):\n",
      "OrderDate    365 non-null datetime64[ns]\n",
      "Quantity     365 non-null int64\n",
      "Revenue      365 non-null float64\n",
      "dtypes: datetime64[ns](1), float64(1), int64(1)\n",
      "memory usage: 11.4 KB\n"
     ]
    }
   ],
   "source": [
    "online_ml.info()"
   ]
  },
  {
   "cell_type": "code",
   "execution_count": 30,
   "metadata": {},
   "outputs": [
    {
     "data": {
      "text/plain": [
       "OrderDate       0\n",
       "OfflineSpend    0\n",
       "OnlineSpend     0\n",
       "dtype: int64"
      ]
     },
     "execution_count": 30,
     "metadata": {},
     "output_type": "execute_result"
    }
   ],
   "source": [
    "mkt =  pd.read_csv(\"Marketing_Spend.csv\", delimiter= \",\")\n",
    "mkt.isnull().sum()"
   ]
  },
  {
   "cell_type": "code",
   "execution_count": 31,
   "metadata": {},
   "outputs": [
    {
     "name": "stdout",
     "output_type": "stream",
     "text": [
      "<class 'pandas.core.frame.DataFrame'>\n",
      "RangeIndex: 365 entries, 0 to 364\n",
      "Data columns (total 3 columns):\n",
      "OrderDate       365 non-null object\n",
      "OfflineSpend    365 non-null int64\n",
      "OnlineSpend     365 non-null float64\n",
      "dtypes: float64(1), int64(1), object(1)\n",
      "memory usage: 8.7+ KB\n"
     ]
    }
   ],
   "source": [
    "mkt.info()"
   ]
  },
  {
   "cell_type": "code",
   "execution_count": 32,
   "metadata": {},
   "outputs": [],
   "source": [
    "mkt['OrderDate'] = pd.to_datetime(mkt['OrderDate'])"
   ]
  },
  {
   "cell_type": "code",
   "execution_count": 33,
   "metadata": {},
   "outputs": [],
   "source": [
    "online_mkt = pd.merge(online_ml,mkt,how='inner',on='OrderDate')"
   ]
  },
  {
   "cell_type": "code",
   "execution_count": 34,
   "metadata": {},
   "outputs": [],
   "source": [
    "online_mkt.to_csv(\"online_mkt_new.csv\")"
   ]
  },
  {
   "cell_type": "markdown",
   "metadata": {},
   "source": [
    "## MACHINE LEARNING MODEL"
   ]
  },
  {
   "cell_type": "code",
   "execution_count": 35,
   "metadata": {},
   "outputs": [
    {
     "data": {
      "text/plain": [
       "NewDate        0\n",
       "month          0\n",
       "weekdayName    0\n",
       "Category       0\n",
       "Quantity       0\n",
       "Avg. Price     0\n",
       "Revenue        0\n",
       "Tax            0\n",
       "Delivery       0\n",
       "dtype: int64"
      ]
     },
     "execution_count": 35,
     "metadata": {},
     "output_type": "execute_result"
    }
   ],
   "source": [
    "product_w =  pd.read_csv(\"online_new1.csv\", delimiter= \",\")\n",
    "product_w.isnull().sum()"
   ]
  },
  {
   "cell_type": "code",
   "execution_count": 36,
   "metadata": {},
   "outputs": [
    {
     "name": "stdout",
     "output_type": "stream",
     "text": [
      "<class 'pandas.core.frame.DataFrame'>\n",
      "RangeIndex: 54139 entries, 0 to 54138\n",
      "Data columns (total 9 columns):\n",
      "NewDate        54139 non-null object\n",
      "month          54139 non-null object\n",
      "weekdayName    54139 non-null object\n",
      "Category       54139 non-null object\n",
      "Quantity       54139 non-null int64\n",
      "Avg. Price     54139 non-null float64\n",
      "Revenue        54139 non-null int32\n",
      "Tax            54139 non-null float64\n",
      "Delivery       54139 non-null float64\n",
      "dtypes: float64(3), int32(1), int64(1), object(4)\n",
      "memory usage: 3.5+ MB\n"
     ]
    }
   ],
   "source": [
    "product_w['Revenue'] = product_w['Revenue'].astype(int)\n",
    "product_w.info()"
   ]
  },
  {
   "cell_type": "code",
   "execution_count": 37,
   "metadata": {},
   "outputs": [],
   "source": [
    "product_w.drop(['NewDate'], axis=1, inplace=True)"
   ]
  },
  {
   "cell_type": "code",
   "execution_count": 38,
   "metadata": {},
   "outputs": [],
   "source": [
    "product = product_w"
   ]
  },
  {
   "cell_type": "code",
   "execution_count": 39,
   "metadata": {},
   "outputs": [],
   "source": [
    "#Creating dummy variables of categorical dataset: BANK\n",
    "for y in product.columns:\n",
    "    if(product[y].dtype == np.float64 or product[y].dtype == np.int64 or product[y].dtype == np.int32):\n",
    "        continue\n",
    "    else:\n",
    "        product = pd.get_dummies(product, columns=[y], drop_first=True)"
   ]
  },
  {
   "cell_type": "code",
   "execution_count": 40,
   "metadata": {},
   "outputs": [
    {
     "data": {
      "text/html": [
       "<div>\n",
       "<style scoped>\n",
       "    .dataframe tbody tr th:only-of-type {\n",
       "        vertical-align: middle;\n",
       "    }\n",
       "\n",
       "    .dataframe tbody tr th {\n",
       "        vertical-align: top;\n",
       "    }\n",
       "\n",
       "    .dataframe thead th {\n",
       "        text-align: right;\n",
       "    }\n",
       "</style>\n",
       "<table border=\"1\" class=\"dataframe\">\n",
       "  <thead>\n",
       "    <tr style=\"text-align: right;\">\n",
       "      <th></th>\n",
       "      <th>Quantity</th>\n",
       "      <th>Avg. Price</th>\n",
       "      <th>Revenue</th>\n",
       "      <th>Tax</th>\n",
       "      <th>Delivery</th>\n",
       "      <th>month_August</th>\n",
       "      <th>month_December</th>\n",
       "      <th>month_February</th>\n",
       "      <th>month_January</th>\n",
       "      <th>month_July</th>\n",
       "      <th>...</th>\n",
       "      <th>Category_Housewares</th>\n",
       "      <th>Category_Lifestyle</th>\n",
       "      <th>Category_More Bags</th>\n",
       "      <th>Category_Nest</th>\n",
       "      <th>Category_Nest-Canada</th>\n",
       "      <th>Category_Nest-USA</th>\n",
       "      <th>Category_Notebooks &amp; Journals</th>\n",
       "      <th>Category_Office</th>\n",
       "      <th>Category_Other</th>\n",
       "      <th>Category_Waze</th>\n",
       "    </tr>\n",
       "  </thead>\n",
       "  <tbody>\n",
       "    <tr>\n",
       "      <th>0</th>\n",
       "      <td>4</td>\n",
       "      <td>80.52</td>\n",
       "      <td>316</td>\n",
       "      <td>34.44</td>\n",
       "      <td>19.99</td>\n",
       "      <td>0</td>\n",
       "      <td>1</td>\n",
       "      <td>0</td>\n",
       "      <td>0</td>\n",
       "      <td>0</td>\n",
       "      <td>...</td>\n",
       "      <td>0</td>\n",
       "      <td>0</td>\n",
       "      <td>0</td>\n",
       "      <td>0</td>\n",
       "      <td>0</td>\n",
       "      <td>1</td>\n",
       "      <td>0</td>\n",
       "      <td>0</td>\n",
       "      <td>0</td>\n",
       "      <td>0</td>\n",
       "    </tr>\n",
       "    <tr>\n",
       "      <th>1</th>\n",
       "      <td>5</td>\n",
       "      <td>80.52</td>\n",
       "      <td>395</td>\n",
       "      <td>33.14</td>\n",
       "      <td>6.50</td>\n",
       "      <td>0</td>\n",
       "      <td>1</td>\n",
       "      <td>0</td>\n",
       "      <td>0</td>\n",
       "      <td>0</td>\n",
       "      <td>...</td>\n",
       "      <td>0</td>\n",
       "      <td>0</td>\n",
       "      <td>0</td>\n",
       "      <td>0</td>\n",
       "      <td>0</td>\n",
       "      <td>1</td>\n",
       "      <td>0</td>\n",
       "      <td>0</td>\n",
       "      <td>0</td>\n",
       "      <td>0</td>\n",
       "    </tr>\n",
       "    <tr>\n",
       "      <th>2</th>\n",
       "      <td>1</td>\n",
       "      <td>151.88</td>\n",
       "      <td>149</td>\n",
       "      <td>12.06</td>\n",
       "      <td>6.50</td>\n",
       "      <td>0</td>\n",
       "      <td>1</td>\n",
       "      <td>0</td>\n",
       "      <td>0</td>\n",
       "      <td>0</td>\n",
       "      <td>...</td>\n",
       "      <td>0</td>\n",
       "      <td>0</td>\n",
       "      <td>0</td>\n",
       "      <td>0</td>\n",
       "      <td>0</td>\n",
       "      <td>1</td>\n",
       "      <td>0</td>\n",
       "      <td>0</td>\n",
       "      <td>0</td>\n",
       "      <td>0</td>\n",
       "    </tr>\n",
       "  </tbody>\n",
       "</table>\n",
       "<p>3 rows × 42 columns</p>\n",
       "</div>"
      ],
      "text/plain": [
       "   Quantity  Avg. Price  Revenue    Tax  Delivery  month_August  \\\n",
       "0         4       80.52      316  34.44     19.99             0   \n",
       "1         5       80.52      395  33.14      6.50             0   \n",
       "2         1      151.88      149  12.06      6.50             0   \n",
       "\n",
       "   month_December  month_February  month_January  month_July  ...  \\\n",
       "0               1               0              0           0  ...   \n",
       "1               1               0              0           0  ...   \n",
       "2               1               0              0           0  ...   \n",
       "\n",
       "   Category_Housewares  Category_Lifestyle  Category_More Bags  Category_Nest  \\\n",
       "0                    0                   0                   0              0   \n",
       "1                    0                   0                   0              0   \n",
       "2                    0                   0                   0              0   \n",
       "\n",
       "   Category_Nest-Canada  Category_Nest-USA  Category_Notebooks & Journals  \\\n",
       "0                     0                  1                              0   \n",
       "1                     0                  1                              0   \n",
       "2                     0                  1                              0   \n",
       "\n",
       "   Category_Office  Category_Other  Category_Waze  \n",
       "0                0               0              0  \n",
       "1                0               0              0  \n",
       "2                0               0              0  \n",
       "\n",
       "[3 rows x 42 columns]"
      ]
     },
     "execution_count": 40,
     "metadata": {},
     "output_type": "execute_result"
    }
   ],
   "source": [
    "product.head(3)"
   ]
  },
  {
   "cell_type": "code",
   "execution_count": 41,
   "metadata": {},
   "outputs": [],
   "source": [
    "lg_df_dep = product['Revenue']\n",
    "lg_df_ind = product.drop(['Revenue'], axis=1)\n",
    "\n",
    "X_prod = lg_df_ind.values\n",
    "y_prod = lg_df_dep"
   ]
  },
  {
   "cell_type": "code",
   "execution_count": 42,
   "metadata": {},
   "outputs": [
    {
     "name": "stdout",
     "output_type": "stream",
     "text": [
      "Shape of X train (43311, 41)\n",
      "Shape of X test (10828, 41)\n",
      "Shape of y train (43311, 1)\n",
      "Shape of y test (10828, 1)\n"
     ]
    }
   ],
   "source": [
    "#Preparation of dependent and independent variables\n",
    "y_cust = np.array(product['Revenue']).reshape(-1, 1)\n",
    "#y_cust = df_cust['TransactionRevenue'].values\n",
    "X_cust = product.drop(['Revenue'], axis=1)\n",
    "\n",
    "#Dividing the data in train and test \n",
    "from sklearn.model_selection import train_test_split\n",
    "X_train, X_test, y_train, y_test = train_test_split(X_cust, y_cust, test_size=0.2, random_state=42)\n",
    "from sklearn.preprocessing import StandardScaler\n",
    "X_normalizer = StandardScaler()\n",
    "X_train = X_normalizer.fit_transform(X_train)\n",
    "X_test = X_normalizer.transform(X_test)\n",
    "\n",
    "y_normalizer = StandardScaler()\n",
    "y_train = y_normalizer.fit_transform(y_train)\n",
    "y_test = y_normalizer.transform(y_test)\n",
    "\n",
    "\n",
    "print(\"Shape of X train\", X_train.shape)\n",
    "print(\"Shape of X test\", X_test.shape)\n",
    "print(\"Shape of y train\", y_train.shape)\n",
    "print(\"Shape of y test\", y_test.shape)"
   ]
  },
  {
   "cell_type": "code",
   "execution_count": 43,
   "metadata": {},
   "outputs": [
    {
     "name": "stdout",
     "output_type": "stream",
     "text": [
      "Fitting 3 folds for each of 9 candidates, totalling 27 fits\n",
      "[CV] C=0.1, gamma=1 ..................................................\n",
      "[CV] ........ C=0.1, gamma=1, score=0.07626809072076113, total= 1.1min\n",
      "[CV] C=0.1, gamma=1 ..................................................\n"
     ]
    },
    {
     "name": "stderr",
     "output_type": "stream",
     "text": [
      "[Parallel(n_jobs=1)]: Done   1 out of   1 | elapsed:  1.4min remaining:    0.0s\n"
     ]
    },
    {
     "name": "stdout",
     "output_type": "stream",
     "text": [
      "[CV] ........ C=0.1, gamma=1, score=0.06490414179583404, total= 1.0min\n",
      "[CV] C=0.1, gamma=1 ..................................................\n"
     ]
    },
    {
     "name": "stderr",
     "output_type": "stream",
     "text": [
      "[Parallel(n_jobs=1)]: Done   2 out of   2 | elapsed:  2.8min remaining:    0.0s\n"
     ]
    },
    {
     "name": "stdout",
     "output_type": "stream",
     "text": [
      "[CV] ........ C=0.1, gamma=1, score=0.07081590944342298, total= 1.0min\n",
      "[CV] C=0.1, gamma=0.1 ................................................\n",
      "[CV] ...... C=0.1, gamma=0.1, score=0.08745027074617184, total=  39.5s\n",
      "[CV] C=0.1, gamma=0.1 ................................................\n",
      "[CV] ....... C=0.1, gamma=0.1, score=0.0757753275580958, total=  39.5s\n",
      "[CV] C=0.1, gamma=0.1 ................................................\n",
      "[CV] ...... C=0.1, gamma=0.1, score=0.08512026437374676, total=  38.3s\n",
      "[CV] C=0.1, gamma=0.001 ..............................................\n",
      "[CV] .... C=0.1, gamma=0.001, score=0.11268415632754147, total=  38.6s\n",
      "[CV] C=0.1, gamma=0.001 ..............................................\n",
      "[CV] .... C=0.1, gamma=0.001, score=0.09997451556403969, total=  38.1s\n",
      "[CV] C=0.1, gamma=0.001 ..............................................\n",
      "[CV] ..... C=0.1, gamma=0.001, score=0.1002826024394685, total=  38.1s\n",
      "[CV] C=1, gamma=1 ....................................................\n",
      "[CV] .......... C=1, gamma=1, score=0.34089242592547775, total= 1.9min\n",
      "[CV] C=1, gamma=1 ....................................................\n",
      "[CV] .......... C=1, gamma=1, score=0.27628908544651076, total= 1.9min\n",
      "[CV] C=1, gamma=1 ....................................................\n",
      "[CV] .......... C=1, gamma=1, score=0.28601293694516206, total= 1.7min\n",
      "[CV] C=1, gamma=0.1 ..................................................\n",
      "[CV] ......... C=1, gamma=0.1, score=0.2837188965719194, total= 1.2min\n",
      "[CV] C=1, gamma=0.1 ..................................................\n",
      "[CV] ......... C=1, gamma=0.1, score=0.2316245791975916, total= 1.2min\n",
      "[CV] C=1, gamma=0.1 ..................................................\n",
      "[CV] ........ C=1, gamma=0.1, score=0.24560787994015498, total= 1.3min\n",
      "[CV] C=1, gamma=0.001 ................................................\n",
      "[CV] ...... C=1, gamma=0.001, score=0.13158139985891593, total=  39.6s\n",
      "[CV] C=1, gamma=0.001 ................................................\n",
      "[CV] ...... C=1, gamma=0.001, score=0.11987698872171881, total=  38.4s\n",
      "[CV] C=1, gamma=0.001 ................................................\n",
      "[CV] ...... C=1, gamma=0.001, score=0.11569440218959204, total=  36.4s\n",
      "[CV] C=10, gamma=1 ...................................................\n",
      "[CV] .......... C=10, gamma=1, score=0.5817292434374856, total= 2.5min\n",
      "[CV] C=10, gamma=1 ...................................................\n",
      "[CV] .......... C=10, gamma=1, score=0.5081627479392057, total= 2.6min\n",
      "[CV] C=10, gamma=1 ...................................................\n",
      "[CV] ......... C=10, gamma=1, score=0.49472323165488175, total= 2.6min\n",
      "[CV] C=10, gamma=0.1 .................................................\n",
      "[CV] ........ C=10, gamma=0.1, score=0.5527548205412187, total= 2.1min\n",
      "[CV] C=10, gamma=0.1 .................................................\n",
      "[CV] ....... C=10, gamma=0.1, score=0.47749227211549394, total= 2.1min\n",
      "[CV] C=10, gamma=0.1 .................................................\n",
      "[CV] ........ C=10, gamma=0.1, score=0.5051273322800178, total= 2.2min\n",
      "[CV] C=10, gamma=0.001 ...............................................\n",
      "[CV] ..... C=10, gamma=0.001, score=0.17828083994331168, total=  43.2s\n",
      "[CV] C=10, gamma=0.001 ...............................................\n",
      "[CV] ..... C=10, gamma=0.001, score=0.16893402397835755, total=  44.1s\n",
      "[CV] C=10, gamma=0.001 ...............................................\n",
      "[CV] ...... C=10, gamma=0.001, score=0.1616608804584112, total=  41.4s\n"
     ]
    },
    {
     "name": "stderr",
     "output_type": "stream",
     "text": [
      "[Parallel(n_jobs=1)]: Done  27 out of  27 | elapsed: 41.0min finished\n"
     ]
    }
   ],
   "source": [
    "param_grid = {'C': [0.1,1, 10], 'gamma': [1,0.1,0.001]}\n",
    "from sklearn.model_selection import GridSearchCV\n",
    "from sklearn.svm import SVR\n",
    "grid_SVR = GridSearchCV(SVR(),param_grid,refit=True,verbose=3)\n",
    "#grid_SVR = SVR(kernel='linear')\n",
    "\n",
    "grid_SVR.fit(X_train,y_train)\n",
    "grid_SVR.score(X_train,y_train)\n",
    "predicted= grid_SVR.predict(X_test)"
   ]
  },
  {
   "cell_type": "code",
   "execution_count": 44,
   "metadata": {},
   "outputs": [
    {
     "name": "stdout",
     "output_type": "stream",
     "text": [
      "\n",
      "The model mean absolute error is:  0.12492543225474279\n",
      "\n",
      "Mean Squared Error: 0.348930749301998\n",
      "\n",
      "Root Mean Squared Error: 0.590703605289487\n",
      "\n",
      " R-squared: 0.5449239852628749\n",
      "the best estimator  SVR(C=10, cache_size=200, coef0=0.0, degree=3, epsilon=0.1, gamma=1,\n",
      "  kernel='rbf', max_iter=-1, shrinking=True, tol=0.001, verbose=False)\n",
      "the best score  0.5282050743438577\n",
      "the best params  {'C': 10, 'gamma': 1}\n"
     ]
    }
   ],
   "source": [
    "from sklearn.metrics import mean_absolute_error\n",
    "from sklearn.metrics import mean_squared_error\n",
    "from sklearn.metrics import r2_score\n",
    "\n",
    "print(\"\\nThe model mean absolute error is: \",mean_absolute_error(y_test,predicted))\n",
    "print('\\nMean Squared Error:', mean_squared_error(y_test, predicted))\n",
    "print('\\nRoot Mean Squared Error:', np.sqrt(mean_squared_error(y_test, predicted)))\n",
    "print('\\n R-squared:', r2_score(y_test, predicted))\n",
    "print(\"the best estimator \", grid_SVR.best_estimator_)\n",
    "print(\"the best score \", grid_SVR.best_score_ )\n",
    "print(\"the best params \", grid_SVR.best_params_)"
   ]
  },
  {
   "cell_type": "markdown",
   "metadata": {},
   "source": [
    "## STOCASTIC GRADIENT DECEND"
   ]
  },
  {
   "cell_type": "code",
   "execution_count": 45,
   "metadata": {},
   "outputs": [
    {
     "name": "stdout",
     "output_type": "stream",
     "text": [
      "Fitting 3 folds for each of 36 candidates, totalling 108 fits\n",
      "[CV] loss=squared_loss, max_iter=50, tol=0.1 .........................\n",
      "[CV]  loss=squared_loss, max_iter=50, tol=0.1, score=0.17564974042134873, total=   0.0s\n",
      "[CV] loss=squared_loss, max_iter=50, tol=0.1 .........................\n",
      "[CV]  loss=squared_loss, max_iter=50, tol=0.1, score=0.1561670971474657, total=   0.0s\n",
      "[CV] loss=squared_loss, max_iter=50, tol=0.1 .........................\n"
     ]
    },
    {
     "name": "stderr",
     "output_type": "stream",
     "text": [
      "[Parallel(n_jobs=1)]: Done   1 out of   1 | elapsed:    0.0s remaining:    0.0s\n",
      "[Parallel(n_jobs=1)]: Done   2 out of   2 | elapsed:    0.1s remaining:    0.0s\n"
     ]
    },
    {
     "name": "stdout",
     "output_type": "stream",
     "text": [
      "[CV]  loss=squared_loss, max_iter=50, tol=0.1, score=0.1498478127674241, total=   0.0s\n",
      "[CV] loss=squared_loss, max_iter=50, tol=0.01 ........................\n",
      "[CV]  loss=squared_loss, max_iter=50, tol=0.01, score=0.14346382361047394, total=   0.0s\n",
      "[CV] loss=squared_loss, max_iter=50, tol=0.01 ........................\n",
      "[CV]  loss=squared_loss, max_iter=50, tol=0.01, score=0.20537143175648687, total=   0.0s\n",
      "[CV] loss=squared_loss, max_iter=50, tol=0.01 ........................\n",
      "[CV]  loss=squared_loss, max_iter=50, tol=0.01, score=0.14387684466383377, total=   0.0s\n",
      "[CV] loss=squared_loss, max_iter=50, tol=0.001 .......................\n",
      "[CV]  loss=squared_loss, max_iter=50, tol=0.001, score=0.19033934117701945, total=   0.0s\n",
      "[CV] loss=squared_loss, max_iter=50, tol=0.001 .......................\n",
      "[CV]  loss=squared_loss, max_iter=50, tol=0.001, score=0.2143632351833955, total=   0.0s\n",
      "[CV] loss=squared_loss, max_iter=50, tol=0.001 .......................\n",
      "[CV]  loss=squared_loss, max_iter=50, tol=0.001, score=0.14906027508807818, total=   0.0s\n",
      "[CV] loss=squared_loss, max_iter=1000, tol=0.1 .......................\n",
      "[CV]  loss=squared_loss, max_iter=1000, tol=0.1, score=0.16540818491572407, total=   0.0s\n",
      "[CV] loss=squared_loss, max_iter=1000, tol=0.1 .......................\n",
      "[CV]  loss=squared_loss, max_iter=1000, tol=0.1, score=0.20991809412621532, total=   0.0s\n",
      "[CV] loss=squared_loss, max_iter=1000, tol=0.1 .......................\n",
      "[CV]  loss=squared_loss, max_iter=1000, tol=0.1, score=0.09757638463808438, total=   0.0s\n",
      "[CV] loss=squared_loss, max_iter=1000, tol=0.01 ......................\n",
      "[CV]  loss=squared_loss, max_iter=1000, tol=0.01, score=0.16217774100057858, total=   0.0s\n",
      "[CV] loss=squared_loss, max_iter=1000, tol=0.01 ......................\n",
      "[CV]  loss=squared_loss, max_iter=1000, tol=0.01, score=-0.005187485116069812, total=   0.0s\n",
      "[CV] loss=squared_loss, max_iter=1000, tol=0.01 ......................\n",
      "[CV]  loss=squared_loss, max_iter=1000, tol=0.01, score=0.10967003815124787, total=   0.0s\n",
      "[CV] loss=squared_loss, max_iter=1000, tol=0.001 .....................\n",
      "[CV]  loss=squared_loss, max_iter=1000, tol=0.001, score=0.191733120379187, total=   0.0s\n",
      "[CV] loss=squared_loss, max_iter=1000, tol=0.001 .....................\n",
      "[CV]  loss=squared_loss, max_iter=1000, tol=0.001, score=0.2062124637229451, total=   0.0s\n",
      "[CV] loss=squared_loss, max_iter=1000, tol=0.001 .....................\n",
      "[CV]  loss=squared_loss, max_iter=1000, tol=0.001, score=0.1483569364671785, total=   0.0s\n",
      "[CV] loss=squared_loss, max_iter=3000, tol=0.1 .......................\n",
      "[CV]  loss=squared_loss, max_iter=3000, tol=0.1, score=0.18829345579319745, total=   0.0s\n",
      "[CV] loss=squared_loss, max_iter=3000, tol=0.1 .......................\n",
      "[CV]  loss=squared_loss, max_iter=3000, tol=0.1, score=0.2138626792323478, total=   0.0s\n",
      "[CV] loss=squared_loss, max_iter=3000, tol=0.1 .......................\n",
      "[CV]  loss=squared_loss, max_iter=3000, tol=0.1, score=0.18250513518930936, total=   0.0s\n",
      "[CV] loss=squared_loss, max_iter=3000, tol=0.01 ......................\n",
      "[CV]  loss=squared_loss, max_iter=3000, tol=0.01, score=0.17079117389663245, total=   0.0s\n",
      "[CV] loss=squared_loss, max_iter=3000, tol=0.01 ......................\n",
      "[CV]  loss=squared_loss, max_iter=3000, tol=0.01, score=0.1625885707843132, total=   0.0s\n",
      "[CV] loss=squared_loss, max_iter=3000, tol=0.01 ......................\n",
      "[CV]  loss=squared_loss, max_iter=3000, tol=0.01, score=0.13575283501345292, total=   0.0s\n",
      "[CV] loss=squared_loss, max_iter=3000, tol=0.001 .....................\n",
      "[CV]  loss=squared_loss, max_iter=3000, tol=0.001, score=0.1864361832199679, total=   0.0s\n",
      "[CV] loss=squared_loss, max_iter=3000, tol=0.001 .....................\n",
      "[CV]  loss=squared_loss, max_iter=3000, tol=0.001, score=0.20428777709864887, total=   0.0s\n",
      "[CV] loss=squared_loss, max_iter=3000, tol=0.001 .....................\n",
      "[CV]  loss=squared_loss, max_iter=3000, tol=0.001, score=0.18065007030717006, total=   0.0s\n",
      "[CV] loss=huber, max_iter=50, tol=0.1 ................................\n",
      "[CV]  loss=huber, max_iter=50, tol=0.1, score=0.1136389922077522, total=   0.0s\n",
      "[CV] loss=huber, max_iter=50, tol=0.1 ................................\n",
      "[CV]  loss=huber, max_iter=50, tol=0.1, score=0.10313791699429709, total=   0.0s\n",
      "[CV] loss=huber, max_iter=50, tol=0.1 ................................\n",
      "[CV]  loss=huber, max_iter=50, tol=0.1, score=0.09266780196931135, total=   0.0s\n",
      "[CV] loss=huber, max_iter=50, tol=0.01 ...............................\n",
      "[CV]  loss=huber, max_iter=50, tol=0.01, score=0.11401466481696798, total=   0.0s\n",
      "[CV] loss=huber, max_iter=50, tol=0.01 ...............................\n",
      "[CV]  loss=huber, max_iter=50, tol=0.01, score=0.1026658092659627, total=   0.0s\n",
      "[CV] loss=huber, max_iter=50, tol=0.01 ...............................\n",
      "[CV]  loss=huber, max_iter=50, tol=0.01, score=0.09140213130976871, total=   0.0s\n",
      "[CV] loss=huber, max_iter=50, tol=0.001 ..............................\n",
      "[CV]  loss=huber, max_iter=50, tol=0.001, score=0.1137472087096082, total=   0.0s\n",
      "[CV] loss=huber, max_iter=50, tol=0.001 ..............................\n",
      "[CV]  loss=huber, max_iter=50, tol=0.001, score=0.10180124102990906, total=   0.0s\n",
      "[CV] loss=huber, max_iter=50, tol=0.001 ..............................\n",
      "[CV]  loss=huber, max_iter=50, tol=0.001, score=0.09190950619897076, total=   0.0s\n",
      "[CV] loss=huber, max_iter=1000, tol=0.1 ..............................\n",
      "[CV]  loss=huber, max_iter=1000, tol=0.1, score=0.11317234292907653, total=   0.0s\n",
      "[CV] loss=huber, max_iter=1000, tol=0.1 ..............................\n",
      "[CV]  loss=huber, max_iter=1000, tol=0.1, score=0.10148291866234249, total=   0.0s\n",
      "[CV] loss=huber, max_iter=1000, tol=0.1 ..............................\n",
      "[CV]  loss=huber, max_iter=1000, tol=0.1, score=0.09305259689496737, total=   0.0s\n",
      "[CV] loss=huber, max_iter=1000, tol=0.01 .............................\n",
      "[CV]  loss=huber, max_iter=1000, tol=0.01, score=0.11460423516680995, total=   0.0s\n",
      "[CV] loss=huber, max_iter=1000, tol=0.01 .............................\n",
      "[CV]  loss=huber, max_iter=1000, tol=0.01, score=0.10377985058003925, total=   0.0s\n",
      "[CV] loss=huber, max_iter=1000, tol=0.01 .............................\n",
      "[CV]  loss=huber, max_iter=1000, tol=0.01, score=0.0915742739391896, total=   0.0s\n",
      "[CV] loss=huber, max_iter=1000, tol=0.001 ............................\n",
      "[CV]  loss=huber, max_iter=1000, tol=0.001, score=0.11309513913777014, total=   0.0s\n",
      "[CV] loss=huber, max_iter=1000, tol=0.001 ............................\n",
      "[CV]  loss=huber, max_iter=1000, tol=0.001, score=0.10304679973764308, total=   0.0s\n",
      "[CV] loss=huber, max_iter=1000, tol=0.001 ............................\n",
      "[CV]  loss=huber, max_iter=1000, tol=0.001, score=0.09271751854331622, total=   0.0s\n",
      "[CV] loss=huber, max_iter=3000, tol=0.1 ..............................\n",
      "[CV]  loss=huber, max_iter=3000, tol=0.1, score=0.11506483630486164, total=   0.0s\n",
      "[CV] loss=huber, max_iter=3000, tol=0.1 ..............................\n",
      "[CV]  loss=huber, max_iter=3000, tol=0.1, score=0.10565410409106057, total=   0.0s\n",
      "[CV] loss=huber, max_iter=3000, tol=0.1 ..............................\n",
      "[CV]  loss=huber, max_iter=3000, tol=0.1, score=0.09141527762883761, total=   0.0s\n",
      "[CV] loss=huber, max_iter=3000, tol=0.01 .............................\n",
      "[CV]  loss=huber, max_iter=3000, tol=0.01, score=0.1160077977578543, total=   0.0s\n",
      "[CV] loss=huber, max_iter=3000, tol=0.01 .............................\n",
      "[CV]  loss=huber, max_iter=3000, tol=0.01, score=0.1019343891784914, total=   0.0s\n",
      "[CV] loss=huber, max_iter=3000, tol=0.01 .............................\n",
      "[CV]  loss=huber, max_iter=3000, tol=0.01, score=0.09015934095435653, total=   0.0s\n",
      "[CV] loss=huber, max_iter=3000, tol=0.001 ............................\n",
      "[CV]  loss=huber, max_iter=3000, tol=0.001, score=0.11336595373225745, total=   0.0s\n",
      "[CV] loss=huber, max_iter=3000, tol=0.001 ............................\n",
      "[CV]  loss=huber, max_iter=3000, tol=0.001, score=0.10075980580286603, total=   0.0s\n",
      "[CV] loss=huber, max_iter=3000, tol=0.001 ............................\n",
      "[CV]  loss=huber, max_iter=3000, tol=0.001, score=0.09224097559100199, total=   0.0s\n",
      "[CV] loss=epsilon_insensitive, max_iter=50, tol=0.1 ..................\n",
      "[CV]  loss=epsilon_insensitive, max_iter=50, tol=0.1, score=0.1264068933737712, total=   0.0s\n",
      "[CV] loss=epsilon_insensitive, max_iter=50, tol=0.1 ..................\n",
      "[CV]  loss=epsilon_insensitive, max_iter=50, tol=0.1, score=0.10189723787512062, total=   0.0s\n",
      "[CV] loss=epsilon_insensitive, max_iter=50, tol=0.1 ..................\n"
     ]
    },
    {
     "name": "stdout",
     "output_type": "stream",
     "text": [
      "[CV]  loss=epsilon_insensitive, max_iter=50, tol=0.1, score=0.11975439687780277, total=   0.0s\n",
      "[CV] loss=epsilon_insensitive, max_iter=50, tol=0.01 .................\n",
      "[CV]  loss=epsilon_insensitive, max_iter=50, tol=0.01, score=0.12262463080466424, total=   0.0s\n",
      "[CV] loss=epsilon_insensitive, max_iter=50, tol=0.01 .................\n",
      "[CV]  loss=epsilon_insensitive, max_iter=50, tol=0.01, score=0.10229062929534627, total=   0.0s\n",
      "[CV] loss=epsilon_insensitive, max_iter=50, tol=0.01 .................\n",
      "[CV]  loss=epsilon_insensitive, max_iter=50, tol=0.01, score=0.09006386536609556, total=   0.0s\n",
      "[CV] loss=epsilon_insensitive, max_iter=50, tol=0.001 ................\n",
      "[CV]  loss=epsilon_insensitive, max_iter=50, tol=0.001, score=0.11092841164564038, total=   0.0s\n",
      "[CV] loss=epsilon_insensitive, max_iter=50, tol=0.001 ................\n",
      "[CV]  loss=epsilon_insensitive, max_iter=50, tol=0.001, score=0.09258148403143218, total=   0.0s\n",
      "[CV] loss=epsilon_insensitive, max_iter=50, tol=0.001 ................\n",
      "[CV]  loss=epsilon_insensitive, max_iter=50, tol=0.001, score=0.10954414687484104, total=   0.0s\n",
      "[CV] loss=epsilon_insensitive, max_iter=1000, tol=0.1 ................\n",
      "[CV]  loss=epsilon_insensitive, max_iter=1000, tol=0.1, score=0.11363259551991267, total=   0.0s\n",
      "[CV] loss=epsilon_insensitive, max_iter=1000, tol=0.1 ................\n",
      "[CV]  loss=epsilon_insensitive, max_iter=1000, tol=0.1, score=0.09924897292798407, total=   0.0s\n",
      "[CV] loss=epsilon_insensitive, max_iter=1000, tol=0.1 ................\n",
      "[CV]  loss=epsilon_insensitive, max_iter=1000, tol=0.1, score=0.06977662028309695, total=   0.0s\n",
      "[CV] loss=epsilon_insensitive, max_iter=1000, tol=0.01 ...............\n",
      "[CV]  loss=epsilon_insensitive, max_iter=1000, tol=0.01, score=0.11251917830578784, total=   0.0s\n",
      "[CV] loss=epsilon_insensitive, max_iter=1000, tol=0.01 ...............\n",
      "[CV]  loss=epsilon_insensitive, max_iter=1000, tol=0.01, score=0.09732004066630241, total=   0.0s\n",
      "[CV] loss=epsilon_insensitive, max_iter=1000, tol=0.01 ...............\n",
      "[CV]  loss=epsilon_insensitive, max_iter=1000, tol=0.01, score=0.10196661461725443, total=   0.0s\n",
      "[CV] loss=epsilon_insensitive, max_iter=1000, tol=0.001 ..............\n",
      "[CV]  loss=epsilon_insensitive, max_iter=1000, tol=0.001, score=0.12597989968988876, total=   0.0s\n",
      "[CV] loss=epsilon_insensitive, max_iter=1000, tol=0.001 ..............\n",
      "[CV]  loss=epsilon_insensitive, max_iter=1000, tol=0.001, score=0.1027615636819822, total=   0.0s\n",
      "[CV] loss=epsilon_insensitive, max_iter=1000, tol=0.001 ..............\n",
      "[CV]  loss=epsilon_insensitive, max_iter=1000, tol=0.001, score=0.10783937951347267, total=   0.0s\n",
      "[CV] loss=epsilon_insensitive, max_iter=3000, tol=0.1 ................\n",
      "[CV]  loss=epsilon_insensitive, max_iter=3000, tol=0.1, score=0.13302980368741324, total=   0.0s\n",
      "[CV] loss=epsilon_insensitive, max_iter=3000, tol=0.1 ................\n",
      "[CV]  loss=epsilon_insensitive, max_iter=3000, tol=0.1, score=0.10540668808586195, total=   0.0s\n",
      "[CV] loss=epsilon_insensitive, max_iter=3000, tol=0.1 ................\n",
      "[CV]  loss=epsilon_insensitive, max_iter=3000, tol=0.1, score=0.12437364079294522, total=   0.0s\n",
      "[CV] loss=epsilon_insensitive, max_iter=3000, tol=0.01 ...............\n",
      "[CV]  loss=epsilon_insensitive, max_iter=3000, tol=0.01, score=0.12802032896184823, total=   0.0s\n",
      "[CV] loss=epsilon_insensitive, max_iter=3000, tol=0.01 ...............\n",
      "[CV]  loss=epsilon_insensitive, max_iter=3000, tol=0.01, score=0.10954101964444274, total=   0.0s\n",
      "[CV] loss=epsilon_insensitive, max_iter=3000, tol=0.01 ...............\n",
      "[CV]  loss=epsilon_insensitive, max_iter=3000, tol=0.01, score=0.09329722058314627, total=   0.0s\n",
      "[CV] loss=epsilon_insensitive, max_iter=3000, tol=0.001 ..............\n",
      "[CV]  loss=epsilon_insensitive, max_iter=3000, tol=0.001, score=0.10945354179199573, total=   0.0s\n",
      "[CV] loss=epsilon_insensitive, max_iter=3000, tol=0.001 ..............\n",
      "[CV]  loss=epsilon_insensitive, max_iter=3000, tol=0.001, score=0.09111705412195326, total=   0.0s\n",
      "[CV] loss=epsilon_insensitive, max_iter=3000, tol=0.001 ..............\n",
      "[CV]  loss=epsilon_insensitive, max_iter=3000, tol=0.001, score=0.08790921571455224, total=   0.0s\n",
      "[CV] loss=squared_epsilon_insensitive, max_iter=50, tol=0.1 ..........\n",
      "[CV]  loss=squared_epsilon_insensitive, max_iter=50, tol=0.1, score=0.058523905801265985, total=   0.0s\n",
      "[CV] loss=squared_epsilon_insensitive, max_iter=50, tol=0.1 ..........\n",
      "[CV]  loss=squared_epsilon_insensitive, max_iter=50, tol=0.1, score=-0.23395127879868702, total=   0.0s\n",
      "[CV] loss=squared_epsilon_insensitive, max_iter=50, tol=0.1 ..........\n",
      "[CV]  loss=squared_epsilon_insensitive, max_iter=50, tol=0.1, score=0.14018387977884916, total=   0.0s\n",
      "[CV] loss=squared_epsilon_insensitive, max_iter=50, tol=0.01 .........\n",
      "[CV]  loss=squared_epsilon_insensitive, max_iter=50, tol=0.01, score=0.15137863306165003, total=   0.0s\n",
      "[CV] loss=squared_epsilon_insensitive, max_iter=50, tol=0.01 .........\n",
      "[CV]  loss=squared_epsilon_insensitive, max_iter=50, tol=0.01, score=-0.0336044357923293, total=   0.0s\n",
      "[CV] loss=squared_epsilon_insensitive, max_iter=50, tol=0.01 .........\n",
      "[CV]  loss=squared_epsilon_insensitive, max_iter=50, tol=0.01, score=0.1521571719743361, total=   0.0s\n",
      "[CV] loss=squared_epsilon_insensitive, max_iter=50, tol=0.001 ........\n",
      "[CV]  loss=squared_epsilon_insensitive, max_iter=50, tol=0.001, score=0.1543467658882649, total=   0.0s\n",
      "[CV] loss=squared_epsilon_insensitive, max_iter=50, tol=0.001 ........\n",
      "[CV]  loss=squared_epsilon_insensitive, max_iter=50, tol=0.001, score=0.09950534397899424, total=   0.0s\n",
      "[CV] loss=squared_epsilon_insensitive, max_iter=50, tol=0.001 ........\n",
      "[CV]  loss=squared_epsilon_insensitive, max_iter=50, tol=0.001, score=0.13919082749041845, total=   0.0s\n",
      "[CV] loss=squared_epsilon_insensitive, max_iter=1000, tol=0.1 ........\n",
      "[CV]  loss=squared_epsilon_insensitive, max_iter=1000, tol=0.1, score=0.1871452606012428, total=   0.0s\n",
      "[CV] loss=squared_epsilon_insensitive, max_iter=1000, tol=0.1 ........\n",
      "[CV]  loss=squared_epsilon_insensitive, max_iter=1000, tol=0.1, score=0.1825431842139814, total=   0.0s\n",
      "[CV] loss=squared_epsilon_insensitive, max_iter=1000, tol=0.1 ........\n",
      "[CV]  loss=squared_epsilon_insensitive, max_iter=1000, tol=0.1, score=0.15051379194580117, total=   0.0s\n",
      "[CV] loss=squared_epsilon_insensitive, max_iter=1000, tol=0.01 .......\n",
      "[CV]  loss=squared_epsilon_insensitive, max_iter=1000, tol=0.01, score=0.16127057846857795, total=   0.0s\n",
      "[CV] loss=squared_epsilon_insensitive, max_iter=1000, tol=0.01 .......\n",
      "[CV]  loss=squared_epsilon_insensitive, max_iter=1000, tol=0.01, score=0.1922704450240733, total=   0.0s\n",
      "[CV] loss=squared_epsilon_insensitive, max_iter=1000, tol=0.01 .......\n",
      "[CV]  loss=squared_epsilon_insensitive, max_iter=1000, tol=0.01, score=0.08786360460295473, total=   0.0s\n",
      "[CV] loss=squared_epsilon_insensitive, max_iter=1000, tol=0.001 ......\n",
      "[CV]  loss=squared_epsilon_insensitive, max_iter=1000, tol=0.001, score=0.17294100176571814, total=   0.0s\n",
      "[CV] loss=squared_epsilon_insensitive, max_iter=1000, tol=0.001 ......\n",
      "[CV]  loss=squared_epsilon_insensitive, max_iter=1000, tol=0.001, score=0.14237919128432586, total=   0.0s\n",
      "[CV] loss=squared_epsilon_insensitive, max_iter=1000, tol=0.001 ......\n",
      "[CV]  loss=squared_epsilon_insensitive, max_iter=1000, tol=0.001, score=0.11350503129287859, total=   0.0s\n",
      "[CV] loss=squared_epsilon_insensitive, max_iter=3000, tol=0.1 ........\n",
      "[CV]  loss=squared_epsilon_insensitive, max_iter=3000, tol=0.1, score=0.04303328861991074, total=   0.0s\n",
      "[CV] loss=squared_epsilon_insensitive, max_iter=3000, tol=0.1 ........\n",
      "[CV]  loss=squared_epsilon_insensitive, max_iter=3000, tol=0.1, score=0.18887386580145893, total=   0.0s\n",
      "[CV] loss=squared_epsilon_insensitive, max_iter=3000, tol=0.1 ........\n",
      "[CV]  loss=squared_epsilon_insensitive, max_iter=3000, tol=0.1, score=0.02705212201083451, total=   0.0s\n",
      "[CV] loss=squared_epsilon_insensitive, max_iter=3000, tol=0.01 .......\n",
      "[CV]  loss=squared_epsilon_insensitive, max_iter=3000, tol=0.01, score=0.15302792748927674, total=   0.0s\n",
      "[CV] loss=squared_epsilon_insensitive, max_iter=3000, tol=0.01 .......\n",
      "[CV]  loss=squared_epsilon_insensitive, max_iter=3000, tol=0.01, score=0.09593146458175594, total=   0.0s\n",
      "[CV] loss=squared_epsilon_insensitive, max_iter=3000, tol=0.01 .......\n",
      "[CV]  loss=squared_epsilon_insensitive, max_iter=3000, tol=0.01, score=0.152318519773606, total=   0.0s\n",
      "[CV] loss=squared_epsilon_insensitive, max_iter=3000, tol=0.001 ......\n"
     ]
    },
    {
     "name": "stdout",
     "output_type": "stream",
     "text": [
      "[CV]  loss=squared_epsilon_insensitive, max_iter=3000, tol=0.001, score=0.12040382885680045, total=   0.0s\n",
      "[CV] loss=squared_epsilon_insensitive, max_iter=3000, tol=0.001 ......\n",
      "[CV]  loss=squared_epsilon_insensitive, max_iter=3000, tol=0.001, score=-0.07095712319390035, total=   0.0s\n",
      "[CV] loss=squared_epsilon_insensitive, max_iter=3000, tol=0.001 ......\n",
      "[CV]  loss=squared_epsilon_insensitive, max_iter=3000, tol=0.001, score=0.12063032586515854, total=   0.0s\n"
     ]
    },
    {
     "name": "stderr",
     "output_type": "stream",
     "text": [
      "[Parallel(n_jobs=1)]: Done 108 out of 108 | elapsed:    9.1s finished\n"
     ]
    }
   ],
   "source": [
    "from sklearn import linear_model\n",
    "param_grid = {'loss': ['squared_loss','huber', 'epsilon_insensitive', 'squared_epsilon_insensitive'], 'max_iter': [50, 1000, 3000], 'tol' : [0.1, 0.01, 0.001]}\n",
    "from sklearn.model_selection import GridSearchCV\n",
    "grid = GridSearchCV(linear_model.SGDRegressor(),param_grid,refit=True,verbose=3)\n",
    "grid.fit(X_train,y_train)\n",
    "grid.score(X_train,y_train)\n",
    "predicted= grid.predict(X_test)"
   ]
  },
  {
   "cell_type": "code",
   "execution_count": 46,
   "metadata": {},
   "outputs": [
    {
     "name": "stdout",
     "output_type": "stream",
     "text": [
      "\n",
      "The model mean squared error is:  0.25371871125558193\n",
      "\n",
      "Mean Squared Error for test data: 0.8240008958742264\n",
      "\n",
      "Root Mean Squared Error: 0.9077449508943723\n",
      "\n",
      " R-squared: -0.07466322353183497\n",
      "the best estimator  SGDRegressor(alpha=0.0001, average=False, epsilon=0.1, eta0=0.01,\n",
      "       fit_intercept=True, l1_ratio=0.15, learning_rate='invscaling',\n",
      "       loss='squared_loss', max_iter=3000, n_iter=None, penalty='l2',\n",
      "       power_t=0.25, random_state=None, shuffle=True, tol=0.1, verbose=0,\n",
      "       warm_start=False)\n",
      "the best score  0.1948870900716182\n",
      "the best params  {'loss': 'squared_loss', 'max_iter': 3000, 'tol': 0.1}\n"
     ]
    }
   ],
   "source": [
    "print(\"\\nThe model mean squared error is: \",mean_absolute_error(y_test,predicted))\n",
    "print('\\nMean Squared Error for test data:', mean_squared_error(y_test, predicted))  \n",
    "print('\\nRoot Mean Squared Error:', np.sqrt(mean_squared_error(y_test, predicted)))\n",
    "print('\\n R-squared:', r2_score(y_test, predicted))\n",
    "\n",
    "print(\"the best estimator \", grid.best_estimator_)\n",
    "print(\"the best score \", grid.best_score_ )\n",
    "print(\"the best params \", grid.best_params_)"
   ]
  },
  {
   "cell_type": "code",
   "execution_count": 47,
   "metadata": {},
   "outputs": [
    {
     "name": "stdout",
     "output_type": "stream",
     "text": [
      "Shape of input (54139, 41)\n",
      "Shape of PCA component (54139, 2)\n",
      "Explained Variance [0.73322175 0.14085803]\n",
      "Total variance explained by 2 PCA components is:  [0.73322175 0.87407978]\n"
     ]
    },
    {
     "data": {
      "text/plain": [
       "<matplotlib.colorbar.Colorbar at 0x269c817f908>"
      ]
     },
     "execution_count": 47,
     "metadata": {},
     "output_type": "execute_result"
    },
    {
     "data": {
      "image/png": "[encoded data removed]",
      "text/plain": [
       "<Figure size 432x288 with 2 Axes>"
      ]
     },
     "metadata": {},
     "output_type": "display_data"
    }
   ],
   "source": [
    "from sklearn import decomposition\n",
    "pca = decomposition.PCA(n_components=2, random_state=42).fit(X_prod)\n",
    "projected = pca.fit_transform(X_prod)\n",
    "print(\"Shape of input\", X_prod.shape)\n",
    "print(\"Shape of PCA component\", projected.shape)\n",
    "print(\"Explained Variance\", pca.explained_variance_ratio_)\n",
    "print(\"Total variance explained by 2 PCA components is: \",np.cumsum(pca.explained_variance_ratio_))\n",
    "plt.scatter(projected[:, 0], projected[:, 1],\n",
    "            c=y_prod, edgecolor='none', alpha=0.5)\n",
    "plt.xlabel('component 1')\n",
    "plt.ylabel('component 2')\n",
    "plt.colorbar()"
   ]
  },
  {
   "cell_type": "code",
   "execution_count": 48,
   "metadata": {},
   "outputs": [
    {
     "data": {
      "text/plain": [
       "Text(0.5,1,'Component-wise and Cumulative Explained Variance')"
      ]
     },
     "execution_count": 48,
     "metadata": {},
     "output_type": "execute_result"
    },
    {
     "data": {
      "image/png": "[encoded data removed]",
      "text/plain": [
       "<Figure size 432x288 with 1 Axes>"
      ]
     },
     "metadata": {},
     "output_type": "display_data"
    }
   ],
   "source": [
    "from sklearn.decomposition import PCA\n",
    "pca = PCA(n_components=4)\n",
    "pca_result = pca.fit_transform(X_prod)\n",
    "\n",
    "plt.plot(range(4), pca.explained_variance_ratio_)\n",
    "plt.plot(range(4), np.cumsum(pca.explained_variance_ratio_))\n",
    "plt.title(\"Component-wise and Cumulative Explained Variance\")"
   ]
  },
  {
   "cell_type": "code",
   "execution_count": 49,
   "metadata": {},
   "outputs": [
    {
     "name": "stdout",
     "output_type": "stream",
     "text": [
      "Shape of X train (43311, 2)\n",
      "Shape of X test (10828, 2)\n",
      "Shape of y train (43311, 1)\n",
      "Shape of y test (10828, 1)\n"
     ]
    }
   ],
   "source": [
    "from sklearn.model_selection import train_test_split\n",
    "X_train, X_test, y_train, y_test = train_test_split(projected, y_cust, test_size=0.2, random_state=42)\n",
    "\n",
    "from sklearn.preprocessing import StandardScaler\n",
    "X_normalizer = StandardScaler()\n",
    "\n",
    "X_train = X_normalizer.fit_transform(X_train)\n",
    "X_test = X_normalizer.transform(X_test)\n",
    "\n",
    "y_normalizer = StandardScaler()\n",
    "y_train = y_normalizer.fit_transform(y_train)\n",
    "y_test = y_normalizer.transform(y_test)\n",
    "\n",
    "\n",
    "print(\"Shape of X train\", X_train.shape)\n",
    "print(\"Shape of X test\", X_test.shape)\n",
    "print(\"Shape of y train\", y_train.shape)\n",
    "print(\"Shape of y test\", y_test.shape)"
   ]
  },
  {
   "cell_type": "code",
   "execution_count": 50,
   "metadata": {},
   "outputs": [
    {
     "name": "stdout",
     "output_type": "stream",
     "text": [
      "\n",
      "The model mean absolute error is:  0.17394113700831082\n",
      "\n",
      "Mean Squared Error: 0.6567135915883332\n",
      "\n",
      " R-squared: 0.1435131335327935\n"
     ]
    }
   ],
   "source": [
    "model_PCA_SGD = linear_model.SGDRegressor(alpha=0.0001, loss='squared_loss', max_iter=50, tol=0.01)\n",
    "\n",
    "model_PCA_SGD.fit(X_train,y_train)\n",
    "model_PCA_SGD.score(X_train,y_train)\n",
    "predicted_SGD= model_PCA_SGD.predict(X_test)\n",
    "\n",
    "from sklearn.metrics import mean_absolute_error\n",
    "from sklearn.metrics import mean_squared_error\n",
    "from sklearn.metrics import r2_score\n",
    "\n",
    "print(\"\\nThe model mean absolute error is: \",mean_absolute_error(y_test,predicted_SGD))\n",
    "print('\\nMean Squared Error:', mean_squared_error(y_test, predicted_SGD))\n",
    "print('\\n R-squared:', r2_score(y_test, predicted_SGD))"
   ]
  },
  {
   "cell_type": "code",
   "execution_count": 51,
   "metadata": {},
   "outputs": [
    {
     "name": "stdout",
     "output_type": "stream",
     "text": [
      "\n",
      "The model mean absolute error is:  0.17394113700831082\n",
      "\n",
      "Mean Squared Error: 0.6567135915883332\n",
      "\n",
      " R-squared: 0.1435131335327935\n"
     ]
    }
   ],
   "source": [
    "from sklearn.svm import SVR\n",
    "model_PCA_SVR = SVR(C=10, cache_size=200, coef0=0.0, degree=3, epsilon=0.1, gamma=1,\n",
    "  kernel='rbf', max_iter=-1, shrinking=True, tol=0.001, verbose=False)\n",
    "\n",
    "model_PCA_SVR.fit(X_train,y_train)\n",
    "predicted= model_PCA_SVR.predict(X_test)\n",
    "\n",
    "from sklearn.metrics import mean_absolute_error\n",
    "from sklearn.metrics import mean_squared_error\n",
    "from sklearn.metrics import r2_score\n",
    "\n",
    "print(\"\\nThe model mean absolute error is: \",mean_absolute_error(y_test,predicted_SGD))\n",
    "print('\\nMean Squared Error:', mean_squared_error(y_test, predicted_SGD))\n",
    "print('\\n R-squared:', r2_score(y_test, predicted_SGD))"
   ]
  },
  {
   "cell_type": "code",
   "execution_count": null,
   "metadata": {},
   "outputs": [],
   "source": []
  }
 ],
 "metadata": {
  "kernelspec": {
   "display_name": "Python 3",
   "language": "python",
   "name": "python3"
  },
  "language_info": {
   "codemirror_mode": {
    "name": "ipython",
    "version": 3
   },
   "file_extension": ".py",
   "mimetype": "text/x-python",
   "name": "python",
   "nbconvert_exporter": "python",
   "pygments_lexer": "ipython3",
   "version": "3.6.5"
  }
 },
 "nbformat": 4,
 "nbformat_minor": 2
}
